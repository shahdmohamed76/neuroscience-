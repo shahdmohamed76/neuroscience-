{
 "cells": [
  {
   "cell_type": "code",
   "execution_count": 1,
   "id": "778a59fd-4a5b-4987-9746-76e00dfca558",
   "metadata": {},
   "outputs": [],
   "source": [
    "import numpy as np"
   ]
  },
  {
   "cell_type": "code",
   "execution_count": 2,
   "id": "14cf33e9-16bc-4e50-a07f-b4c41eed2b6f",
   "metadata": {},
   "outputs": [
    {
     "name": "stdout",
     "output_type": "stream",
     "text": [
      "Error before training: 0.2983711087600027\n",
      "Error after training: 0.28047144679143016\n",
      "Fainal outputs after updating:  [[0.72844176 0.77837692]]\n"
     ]
    }
   ],
   "source": [
    "def sigmoid(x):\n",
    "    return 1 / (1 + np.exp(-x))\n",
    "\n",
    "def sigmoid_derivative(x):\n",
    "    return x * (1 - x)\n",
    "\n",
    "#inputs & Weights \n",
    "\n",
    "inputs = np.array([[0.05, 0.10]])\n",
    "weights_input_hidden = np.array([[0.15, 0.25], [0.20, 0.30]])\n",
    "bias_hidden = np.array([[0.35, 0.35]])  \n",
    "weights_hidden_output = np.array([[0.40, 0.50], [0.45, 0.55]])\n",
    "bias_output = np.array([[0.60, 0.60]])  \n",
    "\n",
    "targets = np.array([[0.01, 0.99]])\n",
    "learning_rate = 0.5\n",
    "\n",
    "# Forward \n",
    "hidden_input = np.dot(inputs, weights_input_hidden) + bias_hidden\n",
    "hidden_output = sigmoid(hidden_input)\n",
    "\n",
    "final_input = np.dot(hidden_output, weights_hidden_output) + bias_output\n",
    "final_output = sigmoid(final_input)\n",
    "\n",
    "# error rat\n",
    "error = 0.5 * np.sum((targets - final_output) ** 2)\n",
    "print(\"Error before training:\", error)\n",
    "\n",
    "# Backward \n",
    "output_error = (final_output - targets) * sigmoid_derivative(final_output)\n",
    "hidden_error = np.dot(output_error, weights_hidden_output.T) * sigmoid_derivative(hidden_output)\n",
    "\n",
    "# update Weights\n",
    "weights_hidden_output -= learning_rate * np.dot(hidden_output.T, output_error)\n",
    "weights_input_hidden -= learning_rate * np.dot(inputs.T, hidden_error)\n",
    "\n",
    "# bias update\n",
    "bias_output -= learning_rate * np.sum(output_error, axis=0, keepdims=True)\n",
    "bias_hidden -= learning_rate * np.sum(hidden_error, axis=0, keepdims=True)\n",
    "\n",
    "# Forward after updating\n",
    "hidden_input = np.dot(inputs, weights_input_hidden) + bias_hidden\n",
    "hidden_output = sigmoid(hidden_input)\n",
    "final_input = np.dot(hidden_output, weights_hidden_output) + bias_output\n",
    "final_output = sigmoid(final_input)\n",
    "\n",
    "# loss fun.\n",
    "error = 0.5 * np.sum((targets - final_output) ** 2)\n",
    "print(\"Error after training:\", error)\n",
    "\n",
    "print(\"Fainal outputs after updating: \", final_output)\n"
   ]
  },
  {
   "cell_type": "code",
   "execution_count": null,
   "id": "b9ef1132-ea64-41d1-8d62-eba746925152",
   "metadata": {},
   "outputs": [],
   "source": []
  },
  {
   "cell_type": "code",
   "execution_count": null,
   "id": "7e31c8d7-18af-4b8c-a094-af25496233ae",
   "metadata": {},
   "outputs": [],
   "source": []
  }
 ],
 "metadata": {
  "kernelspec": {
   "display_name": "Python 3 (ipykernel)",
   "language": "python",
   "name": "python3"
  },
  "language_info": {
   "codemirror_mode": {
    "name": "ipython",
    "version": 3
   },
   "file_extension": ".py",
   "mimetype": "text/x-python",
   "name": "python",
   "nbconvert_exporter": "python",
   "pygments_lexer": "ipython3",
   "version": "3.12.4"
  }
 },
 "nbformat": 4,
 "nbformat_minor": 5
}
